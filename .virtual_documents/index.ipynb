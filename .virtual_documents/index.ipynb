


# Import pandas using the standard alias
import pandas as pd


# Import the file and print the first 5 rows
df = pd.read_excel('Data/Zipcode_Demos.xlsx')
df.head(5)


# Print the last 5 rows of df
df.tail(5)


# What is going on with this data set? Anything unusual?
'''
It has too many columns that are empty and need to be dropped.
The COLUMN names seem to be on their own column 0.
'''


# Clean up the dataset
df = pd.read_excel('Data/Zipcode_Demos.xlsx',header = 48)
df





# Hint: Here's a useful programming pattern to use
try:
    # Do something
    df = pd.read_csv("Data/Yelp_Reviews_Corrupt.csv", skiprows=[2331, 2340])
    print("loaded successfully")
    print(df.head())
except Exception as e:
    # Handle your exception e
    print(f"an error occurred : {e}")


df



